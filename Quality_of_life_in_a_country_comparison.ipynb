{
  "nbformat": 4,
  "nbformat_minor": 0,
  "metadata": {
    "colab": {
      "name": "Quality of life in a country comparison.ipynb",
      "provenance": []
    },
    "kernelspec": {
      "name": "python3",
      "display_name": "Python 3"
    },
    "language_info": {
      "name": "python"
    }
  },
  "cells": [
    {
      "cell_type": "code",
      "execution_count": 3,
      "metadata": {
        "colab": {
          "base_uri": "https://localhost:8080/"
        },
        "id": "h_XoymuD3xkG",
        "outputId": "08390eae-c117-4c86-9ac1-f55ef86be936"
      },
      "outputs": [
        {
          "output_type": "stream",
          "name": "stdout",
          "text": [
            "Looking in indexes: https://pypi.org/simple, https://us-python.pkg.dev/colab-wheels/public/simple/\n",
            "Requirement already satisfied: lxml in /usr/local/lib/python3.7/dist-packages (4.9.1)\n"
          ]
        }
      ],
      "source": [
        "!pip install requests --quiet\n",
        "!pip install beautifulsoup4 --upgrade --quiet\n",
        "!pip install lxml"
      ]
    },
    {
      "cell_type": "code",
      "source": [
        "import requests\n",
        "from bs4 import BeautifulSoup\n",
        "import pandas as pd"
      ],
      "metadata": {
        "id": "kPqdAOu-39J-"
      },
      "execution_count": 35,
      "outputs": []
    },
    {
      "cell_type": "code",
      "source": [
        "url='https://www.worlddata.info/quality-of-life.php'"
      ],
      "metadata": {
        "id": "NMBXNgxf4XHR"
      },
      "execution_count": 5,
      "outputs": []
    },
    {
      "cell_type": "code",
      "source": [
        "res=requests.get(url)"
      ],
      "metadata": {
        "id": "4mdljCbA4cOf"
      },
      "execution_count": 8,
      "outputs": []
    },
    {
      "cell_type": "code",
      "source": [
        "content=res.text"
      ],
      "metadata": {
        "id": "uhkzpgjD4gKd"
      },
      "execution_count": 11,
      "outputs": []
    },
    {
      "cell_type": "code",
      "source": [
        "soup=BeautifulSoup(content,'lxml')"
      ],
      "metadata": {
        "id": "PdqBEi2p4hLo"
      },
      "execution_count": 13,
      "outputs": []
    },
    {
      "cell_type": "code",
      "source": [
        "table=soup.find_all('div',class_='tablescroller')"
      ],
      "metadata": {
        "id": "k4OutGYd4r_Z"
      },
      "execution_count": 16,
      "outputs": []
    },
    {
      "cell_type": "code",
      "source": [
        "col=soup.find_all('th')"
      ],
      "metadata": {
        "id": "FevMoFC1667K"
      },
      "execution_count": 24,
      "outputs": []
    },
    {
      "cell_type": "code",
      "source": [
        "header=[]"
      ],
      "metadata": {
        "id": "aBbiQBkr5Jeu"
      },
      "execution_count": 32,
      "outputs": []
    },
    {
      "cell_type": "code",
      "source": [
        "for i in col:\n",
        "  title=i.text.strip()\n",
        "  header.append(title)"
      ],
      "metadata": {
        "id": "Ga2HIVDT6X4R"
      },
      "execution_count": 33,
      "outputs": []
    },
    {
      "cell_type": "code",
      "source": [
        "header"
      ],
      "metadata": {
        "colab": {
          "base_uri": "https://localhost:8080/"
        },
        "id": "vLpBCnz162S5",
        "outputId": "3fafebde-b307-4d2f-acf9-de62723d07a9"
      },
      "execution_count": 34,
      "outputs": [
        {
          "output_type": "execute_result",
          "data": {
            "text/plain": [
              "['Rank',\n",
              " 'Country',\n",
              " 'Stability(15%)',\n",
              " 'Rights(20%)',\n",
              " 'Health(15%)',\n",
              " 'Safety(10%)',\n",
              " 'Climate(15%)',\n",
              " 'Costs(15%)',\n",
              " 'Popularity(10%)',\n",
              " 'TotalQuality of life(100%)']"
            ]
          },
          "metadata": {},
          "execution_count": 34
        }
      ]
    },
    {
      "cell_type": "code",
      "source": [
        "df=pd.DataFrame(columns=header)"
      ],
      "metadata": {
        "id": "qgC5sipY7eS4"
      },
      "execution_count": 36,
      "outputs": []
    },
    {
      "cell_type": "code",
      "source": [
        "df"
      ],
      "metadata": {
        "colab": {
          "base_uri": "https://localhost:8080/",
          "height": 49
        },
        "id": "ufRYYIgG8Uq1",
        "outputId": "c5c87f06-8980-400a-860a-25e152509b5a"
      },
      "execution_count": 37,
      "outputs": [
        {
          "output_type": "execute_result",
          "data": {
            "text/plain": [
              "Empty DataFrame\n",
              "Columns: [Rank, Country, Stability(15%), Rights(20%), Health(15%), Safety(10%), Climate(15%), Costs(15%), Popularity(10%), TotalQuality of life(100%)]\n",
              "Index: []"
            ],
            "text/html": [
              "\n",
              "  <div id=\"df-5860e186-1ffa-4759-bb89-ce0a0f16cb1b\">\n",
              "    <div class=\"colab-df-container\">\n",
              "      <div>\n",
              "<style scoped>\n",
              "    .dataframe tbody tr th:only-of-type {\n",
              "        vertical-align: middle;\n",
              "    }\n",
              "\n",
              "    .dataframe tbody tr th {\n",
              "        vertical-align: top;\n",
              "    }\n",
              "\n",
              "    .dataframe thead th {\n",
              "        text-align: right;\n",
              "    }\n",
              "</style>\n",
              "<table border=\"1\" class=\"dataframe\">\n",
              "  <thead>\n",
              "    <tr style=\"text-align: right;\">\n",
              "      <th></th>\n",
              "      <th>Rank</th>\n",
              "      <th>Country</th>\n",
              "      <th>Stability(15%)</th>\n",
              "      <th>Rights(20%)</th>\n",
              "      <th>Health(15%)</th>\n",
              "      <th>Safety(10%)</th>\n",
              "      <th>Climate(15%)</th>\n",
              "      <th>Costs(15%)</th>\n",
              "      <th>Popularity(10%)</th>\n",
              "      <th>TotalQuality of life(100%)</th>\n",
              "    </tr>\n",
              "  </thead>\n",
              "  <tbody>\n",
              "  </tbody>\n",
              "</table>\n",
              "</div>\n",
              "      <button class=\"colab-df-convert\" onclick=\"convertToInteractive('df-5860e186-1ffa-4759-bb89-ce0a0f16cb1b')\"\n",
              "              title=\"Convert this dataframe to an interactive table.\"\n",
              "              style=\"display:none;\">\n",
              "        \n",
              "  <svg xmlns=\"http://www.w3.org/2000/svg\" height=\"24px\"viewBox=\"0 0 24 24\"\n",
              "       width=\"24px\">\n",
              "    <path d=\"M0 0h24v24H0V0z\" fill=\"none\"/>\n",
              "    <path d=\"M18.56 5.44l.94 2.06.94-2.06 2.06-.94-2.06-.94-.94-2.06-.94 2.06-2.06.94zm-11 1L8.5 8.5l.94-2.06 2.06-.94-2.06-.94L8.5 2.5l-.94 2.06-2.06.94zm10 10l.94 2.06.94-2.06 2.06-.94-2.06-.94-.94-2.06-.94 2.06-2.06.94z\"/><path d=\"M17.41 7.96l-1.37-1.37c-.4-.4-.92-.59-1.43-.59-.52 0-1.04.2-1.43.59L10.3 9.45l-7.72 7.72c-.78.78-.78 2.05 0 2.83L4 21.41c.39.39.9.59 1.41.59.51 0 1.02-.2 1.41-.59l7.78-7.78 2.81-2.81c.8-.78.8-2.07 0-2.86zM5.41 20L4 18.59l7.72-7.72 1.47 1.35L5.41 20z\"/>\n",
              "  </svg>\n",
              "      </button>\n",
              "      \n",
              "  <style>\n",
              "    .colab-df-container {\n",
              "      display:flex;\n",
              "      flex-wrap:wrap;\n",
              "      gap: 12px;\n",
              "    }\n",
              "\n",
              "    .colab-df-convert {\n",
              "      background-color: #E8F0FE;\n",
              "      border: none;\n",
              "      border-radius: 50%;\n",
              "      cursor: pointer;\n",
              "      display: none;\n",
              "      fill: #1967D2;\n",
              "      height: 32px;\n",
              "      padding: 0 0 0 0;\n",
              "      width: 32px;\n",
              "    }\n",
              "\n",
              "    .colab-df-convert:hover {\n",
              "      background-color: #E2EBFA;\n",
              "      box-shadow: 0px 1px 2px rgba(60, 64, 67, 0.3), 0px 1px 3px 1px rgba(60, 64, 67, 0.15);\n",
              "      fill: #174EA6;\n",
              "    }\n",
              "\n",
              "    [theme=dark] .colab-df-convert {\n",
              "      background-color: #3B4455;\n",
              "      fill: #D2E3FC;\n",
              "    }\n",
              "\n",
              "    [theme=dark] .colab-df-convert:hover {\n",
              "      background-color: #434B5C;\n",
              "      box-shadow: 0px 1px 3px 1px rgba(0, 0, 0, 0.15);\n",
              "      filter: drop-shadow(0px 1px 2px rgba(0, 0, 0, 0.3));\n",
              "      fill: #FFFFFF;\n",
              "    }\n",
              "  </style>\n",
              "\n",
              "      <script>\n",
              "        const buttonEl =\n",
              "          document.querySelector('#df-5860e186-1ffa-4759-bb89-ce0a0f16cb1b button.colab-df-convert');\n",
              "        buttonEl.style.display =\n",
              "          google.colab.kernel.accessAllowed ? 'block' : 'none';\n",
              "\n",
              "        async function convertToInteractive(key) {\n",
              "          const element = document.querySelector('#df-5860e186-1ffa-4759-bb89-ce0a0f16cb1b');\n",
              "          const dataTable =\n",
              "            await google.colab.kernel.invokeFunction('convertToInteractive',\n",
              "                                                     [key], {});\n",
              "          if (!dataTable) return;\n",
              "\n",
              "          const docLinkHtml = 'Like what you see? Visit the ' +\n",
              "            '<a target=\"_blank\" href=https://colab.research.google.com/notebooks/data_table.ipynb>data table notebook</a>'\n",
              "            + ' to learn more about interactive tables.';\n",
              "          element.innerHTML = '';\n",
              "          dataTable['output_type'] = 'display_data';\n",
              "          await google.colab.output.renderOutput(dataTable, element);\n",
              "          const docLink = document.createElement('div');\n",
              "          docLink.innerHTML = docLinkHtml;\n",
              "          element.appendChild(docLink);\n",
              "        }\n",
              "      </script>\n",
              "    </div>\n",
              "  </div>\n",
              "  "
            ]
          },
          "metadata": {},
          "execution_count": 37
        }
      ]
    },
    {
      "cell_type": "code",
      "source": [
        "ro=soup.find_all('tr')"
      ],
      "metadata": {
        "id": "mglOVfUa8Vlq"
      },
      "execution_count": 38,
      "outputs": []
    },
    {
      "cell_type": "code",
      "source": [
        "for j in soup.find_all('tr')[1:]:\n",
        "  data=j.find_all('td')\n",
        "  rowdata=[td.text.strip() for td in data]\n",
        "  length=len(df)\n",
        "  df.loc[length]=rowdata\n",
        "\n"
      ],
      "metadata": {
        "id": "qK5Y1XOk-6nP"
      },
      "execution_count": 44,
      "outputs": []
    },
    {
      "cell_type": "code",
      "source": [
        "df"
      ],
      "metadata": {
        "colab": {
          "base_uri": "https://localhost:8080/",
          "height": 468
        },
        "id": "w6uezN7ZJoiG",
        "outputId": "8713ad44-1355-4053-f097-92a4ccea4d40"
      },
      "execution_count": 45,
      "outputs": [
        {
          "output_type": "execute_result",
          "data": {
            "text/plain": [
              "    Rank                Country Stability(15%) Rights(20%) Health(15%)  \\\n",
              "0      1              Australia             86          92          87   \n",
              "1      2             San Marino             81          82          91   \n",
              "2      3              Hong Kong             77          85         100   \n",
              "3      4            Switzerland             91          99          93   \n",
              "4      5                  Macao             90          71         100   \n",
              "..   ...                    ...            ...         ...         ...   \n",
              "132  133               Cameroon             40          19           9   \n",
              "133  134                Nigeria             18          24          12   \n",
              "134  135                   Chad             46          12           0   \n",
              "135  136                  Sudan              8          11          18   \n",
              "136  137  Congo (Dem. Republic)             32           7           6   \n",
              "\n",
              "    Safety(10%) Climate(15%) Costs(15%) Popularity(10%)  \\\n",
              "0           100           90         23              41   \n",
              "1            87           62         61              47   \n",
              "2            97           49         61              41   \n",
              "3            99           34         44              46   \n",
              "4            93           48         61              44   \n",
              "..          ...          ...        ...             ...   \n",
              "132          27           60         51              34   \n",
              "133          23           53         57              41   \n",
              "134          31           50         49              44   \n",
              "135          55           40         66              24   \n",
              "136          10           54         60              36   \n",
              "\n",
              "    TotalQuality of life(100%)  \n",
              "0                           76  \n",
              "1                           74  \n",
              "2                           74  \n",
              "3                           74  \n",
              "4                           73  \n",
              "..                         ...  \n",
              "132                         34  \n",
              "133                         32  \n",
              "134                         32  \n",
              "135                         30  \n",
              "136                         29  \n",
              "\n",
              "[137 rows x 10 columns]"
            ],
            "text/html": [
              "\n",
              "  <div id=\"df-96570973-10a4-4c1d-a02e-312ff5f446ee\">\n",
              "    <div class=\"colab-df-container\">\n",
              "      <div>\n",
              "<style scoped>\n",
              "    .dataframe tbody tr th:only-of-type {\n",
              "        vertical-align: middle;\n",
              "    }\n",
              "\n",
              "    .dataframe tbody tr th {\n",
              "        vertical-align: top;\n",
              "    }\n",
              "\n",
              "    .dataframe thead th {\n",
              "        text-align: right;\n",
              "    }\n",
              "</style>\n",
              "<table border=\"1\" class=\"dataframe\">\n",
              "  <thead>\n",
              "    <tr style=\"text-align: right;\">\n",
              "      <th></th>\n",
              "      <th>Rank</th>\n",
              "      <th>Country</th>\n",
              "      <th>Stability(15%)</th>\n",
              "      <th>Rights(20%)</th>\n",
              "      <th>Health(15%)</th>\n",
              "      <th>Safety(10%)</th>\n",
              "      <th>Climate(15%)</th>\n",
              "      <th>Costs(15%)</th>\n",
              "      <th>Popularity(10%)</th>\n",
              "      <th>TotalQuality of life(100%)</th>\n",
              "    </tr>\n",
              "  </thead>\n",
              "  <tbody>\n",
              "    <tr>\n",
              "      <th>0</th>\n",
              "      <td>1</td>\n",
              "      <td>Australia</td>\n",
              "      <td>86</td>\n",
              "      <td>92</td>\n",
              "      <td>87</td>\n",
              "      <td>100</td>\n",
              "      <td>90</td>\n",
              "      <td>23</td>\n",
              "      <td>41</td>\n",
              "      <td>76</td>\n",
              "    </tr>\n",
              "    <tr>\n",
              "      <th>1</th>\n",
              "      <td>2</td>\n",
              "      <td>San Marino</td>\n",
              "      <td>81</td>\n",
              "      <td>82</td>\n",
              "      <td>91</td>\n",
              "      <td>87</td>\n",
              "      <td>62</td>\n",
              "      <td>61</td>\n",
              "      <td>47</td>\n",
              "      <td>74</td>\n",
              "    </tr>\n",
              "    <tr>\n",
              "      <th>2</th>\n",
              "      <td>3</td>\n",
              "      <td>Hong Kong</td>\n",
              "      <td>77</td>\n",
              "      <td>85</td>\n",
              "      <td>100</td>\n",
              "      <td>97</td>\n",
              "      <td>49</td>\n",
              "      <td>61</td>\n",
              "      <td>41</td>\n",
              "      <td>74</td>\n",
              "    </tr>\n",
              "    <tr>\n",
              "      <th>3</th>\n",
              "      <td>4</td>\n",
              "      <td>Switzerland</td>\n",
              "      <td>91</td>\n",
              "      <td>99</td>\n",
              "      <td>93</td>\n",
              "      <td>99</td>\n",
              "      <td>34</td>\n",
              "      <td>44</td>\n",
              "      <td>46</td>\n",
              "      <td>74</td>\n",
              "    </tr>\n",
              "    <tr>\n",
              "      <th>4</th>\n",
              "      <td>5</td>\n",
              "      <td>Macao</td>\n",
              "      <td>90</td>\n",
              "      <td>71</td>\n",
              "      <td>100</td>\n",
              "      <td>93</td>\n",
              "      <td>48</td>\n",
              "      <td>61</td>\n",
              "      <td>44</td>\n",
              "      <td>73</td>\n",
              "    </tr>\n",
              "    <tr>\n",
              "      <th>...</th>\n",
              "      <td>...</td>\n",
              "      <td>...</td>\n",
              "      <td>...</td>\n",
              "      <td>...</td>\n",
              "      <td>...</td>\n",
              "      <td>...</td>\n",
              "      <td>...</td>\n",
              "      <td>...</td>\n",
              "      <td>...</td>\n",
              "      <td>...</td>\n",
              "    </tr>\n",
              "    <tr>\n",
              "      <th>132</th>\n",
              "      <td>133</td>\n",
              "      <td>Cameroon</td>\n",
              "      <td>40</td>\n",
              "      <td>19</td>\n",
              "      <td>9</td>\n",
              "      <td>27</td>\n",
              "      <td>60</td>\n",
              "      <td>51</td>\n",
              "      <td>34</td>\n",
              "      <td>34</td>\n",
              "    </tr>\n",
              "    <tr>\n",
              "      <th>133</th>\n",
              "      <td>134</td>\n",
              "      <td>Nigeria</td>\n",
              "      <td>18</td>\n",
              "      <td>24</td>\n",
              "      <td>12</td>\n",
              "      <td>23</td>\n",
              "      <td>53</td>\n",
              "      <td>57</td>\n",
              "      <td>41</td>\n",
              "      <td>32</td>\n",
              "    </tr>\n",
              "    <tr>\n",
              "      <th>134</th>\n",
              "      <td>135</td>\n",
              "      <td>Chad</td>\n",
              "      <td>46</td>\n",
              "      <td>12</td>\n",
              "      <td>0</td>\n",
              "      <td>31</td>\n",
              "      <td>50</td>\n",
              "      <td>49</td>\n",
              "      <td>44</td>\n",
              "      <td>32</td>\n",
              "    </tr>\n",
              "    <tr>\n",
              "      <th>135</th>\n",
              "      <td>136</td>\n",
              "      <td>Sudan</td>\n",
              "      <td>8</td>\n",
              "      <td>11</td>\n",
              "      <td>18</td>\n",
              "      <td>55</td>\n",
              "      <td>40</td>\n",
              "      <td>66</td>\n",
              "      <td>24</td>\n",
              "      <td>30</td>\n",
              "    </tr>\n",
              "    <tr>\n",
              "      <th>136</th>\n",
              "      <td>137</td>\n",
              "      <td>Congo (Dem. Republic)</td>\n",
              "      <td>32</td>\n",
              "      <td>7</td>\n",
              "      <td>6</td>\n",
              "      <td>10</td>\n",
              "      <td>54</td>\n",
              "      <td>60</td>\n",
              "      <td>36</td>\n",
              "      <td>29</td>\n",
              "    </tr>\n",
              "  </tbody>\n",
              "</table>\n",
              "<p>137 rows × 10 columns</p>\n",
              "</div>\n",
              "      <button class=\"colab-df-convert\" onclick=\"convertToInteractive('df-96570973-10a4-4c1d-a02e-312ff5f446ee')\"\n",
              "              title=\"Convert this dataframe to an interactive table.\"\n",
              "              style=\"display:none;\">\n",
              "        \n",
              "  <svg xmlns=\"http://www.w3.org/2000/svg\" height=\"24px\"viewBox=\"0 0 24 24\"\n",
              "       width=\"24px\">\n",
              "    <path d=\"M0 0h24v24H0V0z\" fill=\"none\"/>\n",
              "    <path d=\"M18.56 5.44l.94 2.06.94-2.06 2.06-.94-2.06-.94-.94-2.06-.94 2.06-2.06.94zm-11 1L8.5 8.5l.94-2.06 2.06-.94-2.06-.94L8.5 2.5l-.94 2.06-2.06.94zm10 10l.94 2.06.94-2.06 2.06-.94-2.06-.94-.94-2.06-.94 2.06-2.06.94z\"/><path d=\"M17.41 7.96l-1.37-1.37c-.4-.4-.92-.59-1.43-.59-.52 0-1.04.2-1.43.59L10.3 9.45l-7.72 7.72c-.78.78-.78 2.05 0 2.83L4 21.41c.39.39.9.59 1.41.59.51 0 1.02-.2 1.41-.59l7.78-7.78 2.81-2.81c.8-.78.8-2.07 0-2.86zM5.41 20L4 18.59l7.72-7.72 1.47 1.35L5.41 20z\"/>\n",
              "  </svg>\n",
              "      </button>\n",
              "      \n",
              "  <style>\n",
              "    .colab-df-container {\n",
              "      display:flex;\n",
              "      flex-wrap:wrap;\n",
              "      gap: 12px;\n",
              "    }\n",
              "\n",
              "    .colab-df-convert {\n",
              "      background-color: #E8F0FE;\n",
              "      border: none;\n",
              "      border-radius: 50%;\n",
              "      cursor: pointer;\n",
              "      display: none;\n",
              "      fill: #1967D2;\n",
              "      height: 32px;\n",
              "      padding: 0 0 0 0;\n",
              "      width: 32px;\n",
              "    }\n",
              "\n",
              "    .colab-df-convert:hover {\n",
              "      background-color: #E2EBFA;\n",
              "      box-shadow: 0px 1px 2px rgba(60, 64, 67, 0.3), 0px 1px 3px 1px rgba(60, 64, 67, 0.15);\n",
              "      fill: #174EA6;\n",
              "    }\n",
              "\n",
              "    [theme=dark] .colab-df-convert {\n",
              "      background-color: #3B4455;\n",
              "      fill: #D2E3FC;\n",
              "    }\n",
              "\n",
              "    [theme=dark] .colab-df-convert:hover {\n",
              "      background-color: #434B5C;\n",
              "      box-shadow: 0px 1px 3px 1px rgba(0, 0, 0, 0.15);\n",
              "      filter: drop-shadow(0px 1px 2px rgba(0, 0, 0, 0.3));\n",
              "      fill: #FFFFFF;\n",
              "    }\n",
              "  </style>\n",
              "\n",
              "      <script>\n",
              "        const buttonEl =\n",
              "          document.querySelector('#df-96570973-10a4-4c1d-a02e-312ff5f446ee button.colab-df-convert');\n",
              "        buttonEl.style.display =\n",
              "          google.colab.kernel.accessAllowed ? 'block' : 'none';\n",
              "\n",
              "        async function convertToInteractive(key) {\n",
              "          const element = document.querySelector('#df-96570973-10a4-4c1d-a02e-312ff5f446ee');\n",
              "          const dataTable =\n",
              "            await google.colab.kernel.invokeFunction('convertToInteractive',\n",
              "                                                     [key], {});\n",
              "          if (!dataTable) return;\n",
              "\n",
              "          const docLinkHtml = 'Like what you see? Visit the ' +\n",
              "            '<a target=\"_blank\" href=https://colab.research.google.com/notebooks/data_table.ipynb>data table notebook</a>'\n",
              "            + ' to learn more about interactive tables.';\n",
              "          element.innerHTML = '';\n",
              "          dataTable['output_type'] = 'display_data';\n",
              "          await google.colab.output.renderOutput(dataTable, element);\n",
              "          const docLink = document.createElement('div');\n",
              "          docLink.innerHTML = docLinkHtml;\n",
              "          element.appendChild(docLink);\n",
              "        }\n",
              "      </script>\n",
              "    </div>\n",
              "  </div>\n",
              "  "
            ]
          },
          "metadata": {},
          "execution_count": 45
        }
      ]
    },
    {
      "cell_type": "code",
      "source": [
        "df.to_csv('Quality of life in a country comparison.csv')"
      ],
      "metadata": {
        "id": "AvrA0VbkI4pu"
      },
      "execution_count": 49,
      "outputs": []
    },
    {
      "cell_type": "code",
      "source": [
        ""
      ],
      "metadata": {
        "id": "xNiDqfhtLgl6"
      },
      "execution_count": null,
      "outputs": []
    }
  ]
}